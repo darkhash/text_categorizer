{
 "cells": [
  {
   "cell_type": "markdown",
   "metadata": {},
   "source": [
    "# Classifying text into categories"
   ]
  },
  {
   "cell_type": "markdown",
   "metadata": {},
   "source": [
    "## Requirements \n",
    "- Python 3.6.4\n",
    "- mitie==0.2.0\n",
    "- numpy==1.13.3\n",
    "- scikit-learn==0.19.1\n",
    "- matplotlib==2.1.2\n",
    "\n",
    "- place total_word_feature_extractor.dat file in the same directory as this ipynb file"
   ]
  },
  {
   "cell_type": "markdown",
   "metadata": {},
   "source": [
    "## 1. Class for holding training data information\n"
   ]
  },
  {
   "cell_type": "code",
   "execution_count": 4,
   "metadata": {},
   "outputs": [],
   "source": [
    "from sklearn.model_selection import train_test_split\n",
    "\n",
    "class LabelledData:\n",
    "    \"\"\"\n",
    "    This class holds the text and category data \n",
    "    as well as tokens and features data\n",
    "    \"\"\"\n",
    "    \n",
    "    def __init__(self, input_file='LabelledData.txt'):\n",
    "        \"\"\"\n",
    "        Args:\n",
    "            input_file(string): input text file path name containing\n",
    "                                text and category separated by (without square brackets) [ ,,, ] \n",
    "        \"\"\"\n",
    "        self.labelled_data=[]\n",
    "        self.tokens = None\n",
    "        self.features = None\n",
    "\n",
    "        with open(input_file) as data_file:\n",
    "            for line in data_file:\n",
    "                txt, intent = line.strip().split(' ,,, ')\n",
    "                temp_data_dict = {}\n",
    "                temp_data_dict['txt'] = txt.strip()\n",
    "                temp_data_dict['intent'] = intent.strip()\n",
    "                self.labelled_data.append(temp_data_dict)\n",
    "\n",
    "    def __iter__(self):\n",
    "        for data_instance in self.labelled_data:\n",
    "            yield data_instance\n",
    "                \n",
    "    def get_labels(self):\n",
    "        return [instance['intent'] for instance in self.labelled_data]\n",
    "    \n",
    "    def get_text(self):\n",
    "        return [instance['txt'] for instance in self.labelled_data]\n",
    "    \n",
    "    def get_train_labels(self):\n",
    "        return [instance['intent'] for instance in self.train_data]\n",
    "    \n",
    "    def get__train_text(self):\n",
    "        return [instance['txt'] for instance in self.train_data]\n",
    "    \n",
    "    def get_test_labels(self):\n",
    "        return [instance['intent'] for instance in self.test_data]\n",
    "    \n",
    "    def get__test_text(self):\n",
    "        return [instance['txt'] for instance in self.test_data]\n",
    "    \n",
    "    def perform_train_test_split(self, test_size=0.3):\n",
    "        \"\"\"\n",
    "        Args:\n",
    "            test_size (float): test split fraction size\n",
    "        \"\"\"\n",
    "        self.X_train, self.X_test, self.y_train, self.y_test = train_test_split( self.get_text(), self.get_labels(), test_size=test_size, random_state=42)\n",
    "        self.train_data = []\n",
    "        for text, label in zip(self.X_train, self.y_train):\n",
    "            temp_data_dict = {}\n",
    "            temp_data_dict['txt'] = text\n",
    "            temp_data_dict['intent'] = label\n",
    "            self.train_data.append(temp_data_dict)\n",
    "            \n",
    "        self.test_data = []\n",
    "        for text, label in zip(self.X_test, self.y_test):\n",
    "            temp_data_dict = {}\n",
    "            temp_data_dict['txt'] = text\n",
    "            temp_data_dict['intent'] = label\n",
    "            self.test_data.append(temp_data_dict)\n",
    "        \n",
    "        \n",
    "        \n",
    "        \n",
    "    \n",
    "labelled_data = LabelledData()\n",
    "#labelled_data.get_labels()\n",
    "\n",
    "labelled_data.perform_train_test_split()\n"
   ]
  },
  {
   "cell_type": "markdown",
   "metadata": {},
   "source": [
    "## 2. Tokenizer to split text into tokens"
   ]
  },
  {
   "cell_type": "code",
   "execution_count": 5,
   "metadata": {},
   "outputs": [],
   "source": [
    "\n",
    "import mitie\n",
    "\n",
    "class Tokenizer:\n",
    "    \"\"\"\n",
    "    for creating tokens from text\n",
    "    'hello wold this is me.' ==> ['hello', 'world', 'this', 'is', 'me', '.']\n",
    "    \"\"\"\n",
    "    \n",
    "    \n",
    "    def __init__(self):\n",
    "        pass\n",
    "    \n",
    "    def process_data(self, labelled_data):\n",
    "        \"\"\"\n",
    "        Args:\n",
    "            labelled_data (LabelledData): LabelledData obeject \n",
    "                                          created using the training file\n",
    "        \"\"\"\n",
    "        for instance in labelled_data:\n",
    "            instance['tokens'] =  self.tokenize_text(instance['txt'])\n",
    "            \n",
    "    def tokenize_text(self, text):\n",
    "        \"\"\"\n",
    "        Args:\n",
    "            text (string): text to be tokenized\n",
    "        \"\"\"\n",
    "        tokens = [token.decode('utf-8') for token,_ in mitie.tokenize_with_offsets(text)]\n",
    "        return tokens\n",
    "    \n",
    "\n",
    "tokenizer = Tokenizer()\n",
    "tokenizer.process_data(labelled_data.train_data)\n"
   ]
  },
  {
   "cell_type": "markdown",
   "metadata": {},
   "source": [
    "## 3. Feature extractor class using mitie total_word_feature_extractor"
   ]
  },
  {
   "cell_type": "code",
   "execution_count": 6,
   "metadata": {},
   "outputs": [],
   "source": [
    "import numpy as np\n",
    "import mitie\n",
    "class Featurizer:\n",
    "    \"\"\"\n",
    "    for extracting lexical features from tokens\n",
    "    requires total_word_feature_extractor.dat file\n",
    "    \"\"\"\n",
    "    \n",
    "    def __init__(self, mitie_file='total_word_feature_extractor.data'):\n",
    "        \"\"\"\n",
    "        Args:\n",
    "            mitie_file (string): total_word_feature_extractor.data absolute file path name\n",
    "        \"\"\"\n",
    "        self.feature_extractor = mitie.total_word_feature_extractor(mitie_file)\n",
    "        \n",
    "    def process_data(self, labelled_data):\n",
    "        \"\"\"\n",
    "        Args:\n",
    "            labelled_data (LabelledData): LabelledData object after tokenization is done\n",
    "        \"\"\"\n",
    "        for instance in labelled_data:\n",
    "            instance['features'] =  self.get_features(instance['tokens'])\n",
    "            \n",
    "    def get_features(self, tokens):\n",
    "        \"\"\"\n",
    "        Args:\n",
    "            tokens(string[]): array of tokens \n",
    "        \n",
    "        \"\"\"\n",
    "        vec = np.zeros(self.feature_extractor.num_dimensions)\n",
    "        for token in tokens:\n",
    "            vec += self.feature_extractor.get_feature_vector(token)\n",
    "        return vec / len(tokens) if tokens else vec\n",
    "        \n",
    "featurizer = Featurizer('total_word_feature_extractor.dat')\n",
    "featurizer.process_data(labelled_data.train_data)\n"
   ]
  },
  {
   "cell_type": "markdown",
   "metadata": {},
   "source": [
    "## 4. Category classifier \n",
    "uses sklearn svc and gridsearch to tune hyper parameters C and select appropriate kernal\n",
    "- this will take a while - wait until it finishes\n",
    "- change verbose param of GridSearchCV to get a better view of trianing steps"
   ]
  },
  {
   "cell_type": "code",
   "execution_count": 7,
   "metadata": {},
   "outputs": [
    {
     "name": "stdout",
     "output_type": "stream",
     "text": [
      "Fitting 5 folds for each of 12 candidates, totalling 60 fits\n"
     ]
    },
    {
     "name": "stderr",
     "output_type": "stream",
     "text": [
      "[Parallel(n_jobs=4)]: Done  42 tasks      | elapsed:   13.2s\n",
      "[Parallel(n_jobs=4)]: Done  60 out of  60 | elapsed:   17.2s finished\n"
     ]
    }
   ],
   "source": [
    "\n",
    "from sklearn.preprocessing import LabelEncoder\n",
    "from sklearn.model_selection import GridSearchCV\n",
    "from sklearn.svm import SVC\n",
    "import numpy as np\n",
    "import cloudpickle\n",
    "\n",
    "class CategoryClassifier:\n",
    "    \"\"\"\n",
    "    classifier class for text categorization\n",
    "    \"\"\"\n",
    "    \n",
    "    \n",
    "    def __init__(self, labelled_data=None):\n",
    "        \"\"\"\n",
    "        Args:\n",
    "            labelled_data (LabelledData): LabelledData object \n",
    "                                          after tokenization and featurization\n",
    "            clf_file(string): pickled classifer file path name\n",
    "        \"\"\"\n",
    "        self.labelled_data = labelled_data\n",
    "        self.label_encoder = LabelEncoder()\n",
    "        \n",
    "    def _encode_labels(self, labels):\n",
    "        \"\"\"\n",
    "        encode the labels into numbers\n",
    "        \"\"\"\n",
    "        return self.label_encoder.fit_transform(labels)\n",
    "    \n",
    "    def train(self):\n",
    "        y = self._encode_labels(labelled_data.get_train_labels())\n",
    "        X = np.stack([instance[\"features\"] for instance in self.labelled_data])\n",
    "        C =  [1, 2, 5, 10, 20, 100] \n",
    "        kernel = \"linear\"\n",
    "        tuned_parameters = [{\"C\": C, \"kernel\": [\"linear\", \"rbf\"]}]\n",
    "\n",
    "        self.clf = GridSearchCV(SVC(C=1, probability=True, class_weight='balanced'),\n",
    "                                param_grid=tuned_parameters, n_jobs=4,\n",
    "                                cv=5, scoring='f1_weighted', verbose=1)\n",
    "        self.clf.fit(X, y)\n",
    "        \n",
    "    def predict(self, X):\n",
    "        \"\"\"predict categories using the given features\n",
    "        \n",
    "        \"\"\"\n",
    "        pred_result = self.predict_probability(X)\n",
    "        sorted_indices = np.fliplr(np.argsort(pred_result, axis=1))\n",
    "        return sorted_indices, pred_result[:, sorted_indices]\n",
    "    \n",
    "    def predict_probability(self, X):\n",
    "        \n",
    "        return self.clf.predict_proba(X)\n",
    "    \n",
    "    def save_classifier(self):\n",
    "        cl_file_name = 'category_classifer.pkl'\n",
    "        with open(cl_file_name, 'wb') as clf_file:\n",
    "            cloudpickle.dump(self, clf_file)\n",
    "    \n",
    "    @classmethod\n",
    "    def load_classifier(self, clf_file_name):\n",
    "        with open(clf_file_name, 'rb') as clf_file:\n",
    "            return cloudpickle.load(clf_file)\n",
    "    \n",
    "        \n",
    "\n",
    "clf = CategoryClassifier(labelled_data.train_data)\n",
    "clf.train()\n",
    "\n",
    "\n",
    "\n",
    "    \n"
   ]
  },
  {
   "cell_type": "markdown",
   "metadata": {},
   "source": [
    "##  5. Save and resurrect the classifier \n",
    "- save_classifier: to serialize the classifier to the disk \n",
    "- load_classifier: load classifier from the pickled file"
   ]
  },
  {
   "cell_type": "code",
   "execution_count": 8,
   "metadata": {},
   "outputs": [],
   "source": [
    "clf.save_classifier()\n",
    "new_clf = CategoryClassifier.load_classifier('category_classifer.pkl')"
   ]
  },
  {
   "cell_type": "markdown",
   "metadata": {},
   "source": [
    "## 6. Validate the final model"
   ]
  },
  {
   "cell_type": "markdown",
   "metadata": {},
   "source": [
    "## Use the test split data to validate the final model and plot confusion matrix"
   ]
  },
  {
   "cell_type": "code",
   "execution_count": 10,
   "metadata": {},
   "outputs": [
    {
     "name": "stdout",
     "output_type": "stream",
     "text": [
      "Confusion matrix, without normalization\n",
      "[[ 30   2   0   0   0]\n",
      " [  1  63  10   4   5]\n",
      " [  1   7 163   5   1]\n",
      " [  0   2   3  25   0]\n",
      " [  0   3   2   0 118]]\n"
     ]
    },
    {
     "data": {
      "image/png": "[encoded data removed]",
      "text/plain": [
       "<matplotlib.figure.Figure at 0x108ca4a20>"
      ]
     },
     "metadata": {},
     "output_type": "display_data"
    }
   ],
   "source": [
    "import matplotlib.pyplot as plt\n",
    "from sklearn.metrics import confusion_matrix\n",
    "import itertools\n",
    "tokenizer = Tokenizer()\n",
    "tokenizer.process_data(labelled_data.test_data)\n",
    "featurizer.process_data(labelled_data.test_data)\n",
    "X = np.stack([instance[\"features\"] for instance in labelled_data.test_data])\n",
    "Y = [instance['intent']  for instance in labelled_data.test_data]\n",
    "Y_hat_lab, Y_hat_prob = clf.predict(X)   \n",
    "Y_hat_lab = clf.label_encoder.inverse_transform([a[0] for a in Y_hat_lab])\n",
    "cm = confusion_matrix(Y , Y_hat_lab)\n",
    "\n",
    "##plot function taken from sklearn documentation - example\n",
    "def plot_confusion_matrix(cm, classes,\n",
    "                          normalize=False,\n",
    "                          title='Confusion matrix',\n",
    "                          cmap=plt.cm.Blues):\n",
    "    \"\"\"\n",
    "    This function prints and plots the confusion matrix.\n",
    "    Normalization can be applied by setting `normalize=True`.\n",
    "    \"\"\"\n",
    "    if normalize:\n",
    "        cm = cm.astype('float') / cm.sum(axis=1)[:, np.newaxis]\n",
    "        print(\"Normalized confusion matrix\")\n",
    "    else:\n",
    "        print('Confusion matrix, without normalization')\n",
    "\n",
    "    print(cm)\n",
    "\n",
    "    plt.imshow(cm, interpolation='nearest', cmap=cmap)\n",
    "    plt.title(title)\n",
    "    plt.colorbar()\n",
    "    tick_marks = np.arange(len(classes))\n",
    "    plt.xticks(tick_marks, classes, rotation=45)\n",
    "    plt.yticks(tick_marks, classes)\n",
    "\n",
    "    fmt = '.2f' if normalize else 'd'\n",
    "    thresh = cm.max() / 2.\n",
    "    for i, j in itertools.product(range(cm.shape[0]), range(cm.shape[1])):\n",
    "        plt.text(j, i, format(cm[i, j], fmt),\n",
    "                 horizontalalignment=\"center\",\n",
    "                 color=\"white\" if cm[i, j] > thresh else \"black\")\n",
    "\n",
    "    plt.tight_layout()\n",
    "    plt.ylabel('True label')\n",
    "    plt.xlabel('Predicted label')\n",
    "    \n",
    "plot_confusion_matrix(cm, clf.label_encoder.inverse_transform(new_clf.clf.classes_))"
   ]
  },
  {
   "cell_type": "markdown",
   "metadata": {},
   "source": [
    "## 7. Use the trained classifier to predict labels for new text\n",
    "change text variable value to the text you want to test"
   ]
  },
  {
   "cell_type": "code",
   "execution_count": 11,
   "metadata": {},
   "outputs": [
    {
     "name": "stdout",
     "output_type": "stream",
     "text": [
      "___________________________________\n",
      "rank      category       confidence\n",
      "___________________________________\n",
      "0         what           0.91      \n",
      "1         unknown        0.09      \n",
      "2         when           0.00      \n",
      "3         affirmation    0.00      \n",
      "4         who            0.00      \n"
     ]
    }
   ],
   "source": [
    "#text = 'What time does the train leave?' #Change me\n",
    "text = 'What is artificial intelligence ?'\n",
    "tokens = tokenizer.tokenize_text(text)\n",
    "features = featurizer.get_features(tokens)\n",
    "intent_ids, probabilities = clf.predict(features.reshape(1,-1))\n",
    "\n",
    "headers = ['rank', 'category', 'confidence']\n",
    "print('_'*35)\n",
    "print(f'{headers[0]:<10}{headers[1]:<15}{headers[2]:<10}')\n",
    "print('_'*35)\n",
    "for rank, (intent_id, probability) in enumerate(zip(intent_ids.T, probabilities[0].T)):\n",
    "    #print(formatting.format())\n",
    "    print(f'{rank:<10}{clf.label_encoder.inverse_transform(intent_id)[0]:<15}{probability[0]:<10.2f}')"
   ]
  },
  {
   "cell_type": "code",
   "execution_count": null,
   "metadata": {},
   "outputs": [],
   "source": []
  }
 ],
 "metadata": {
  "kernelspec": {
   "display_name": "Python 3",
   "language": "python",
   "name": "python3"
  },
  "language_info": {
   "codemirror_mode": {
    "name": "ipython",
    "version": 3
   },
   "file_extension": ".py",
   "mimetype": "text/x-python",
   "name": "python",
   "nbconvert_exporter": "python",
   "pygments_lexer": "ipython3",
   "version": "3.6.4"
  }
 },
 "nbformat": 4,
 "nbformat_minor": 2
}
